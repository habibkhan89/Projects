{
 "cells": [
  {
   "cell_type": "code",
   "execution_count": 97,
   "metadata": {},
   "outputs": [],
   "source": [
    "import pandas as pd\n",
    "import numpy as np\n",
    "import matplotlib.pyplot as plt\n",
    "import seaborn as sns\n",
    "import datetime as dt"
   ]
  },
  {
   "cell_type": "code",
   "execution_count": null,
   "metadata": {},
   "outputs": [],
   "source": [
    "# Filtering warnings\n",
    "import warnings\n",
    "warnings.filterwarnings('ignore')"
   ]
  },
  {
   "cell_type": "markdown",
   "metadata": {},
   "source": [
    "# Overview\n",
    "\n",
    "This dataset contains all the incidents of crossing the border into the US as provided by the Bureau of Transportation Statistics, Govt. of the US. This dataset tells about the incoming counts into the US.\n",
    "\n",
    "This can prove to be a vital dataset to predict the average incoming counts into the future seeing the current trend. A primary look tells us that 77% of the incidents marked in the dataset consisted of US-Canada border meaning Canadians have tended to come in more frequently into the US as compared to the Mexicans.\n",
    "\n",
    "This data can also prove to useful to predict the daily or weekly or monthly or annual traffic that's going to accumulate on the borders so that the authorities can be aware of the number beforehand."
   ]
  },
  {
   "cell_type": "code",
   "execution_count": 98,
   "metadata": {},
   "outputs": [
    {
     "name": "stderr",
     "output_type": "stream",
     "text": [
      "C:\\Users\\hukha\\Anaconda3\\lib\\site-packages\\ipykernel_launcher.py:2: FutureWarning: The pandas.datetime class is deprecated and will be removed from pandas in a future version. Import from datetime module instead.\n",
      "  \n"
     ]
    },
    {
     "name": "stdout",
     "output_type": "stream",
     "text": [
      "<class 'pandas.core.frame.DataFrame'>\n",
      "RangeIndex: 355511 entries, 0 to 355510\n",
      "Data columns (total 7 columns):\n",
      " #   Column     Non-Null Count   Dtype         \n",
      "---  ------     --------------   -----         \n",
      " 0   Port Name  355511 non-null  category      \n",
      " 1   State      355511 non-null  category      \n",
      " 2   Port Code  355511 non-null  int64         \n",
      " 3   Border     355511 non-null  category      \n",
      " 4   Date       355511 non-null  datetime64[ns]\n",
      " 5   Measure    355511 non-null  object        \n",
      " 6   Value      355511 non-null  int64         \n",
      "dtypes: category(3), datetime64[ns](1), int64(2), object(1)\n",
      "memory usage: 11.9+ MB\n"
     ]
    }
   ],
   "source": [
    "# Created function to parse date\n",
    "mydateparser = lambda x: pd.datetime.strptime(x, \"%d/%m/%Y %H:%M\")\n",
    "\n",
    "# Importing dataset\n",
    "data = pd.read_csv(\"border.csv\", dtype={'Port Name': 'category', 'State': 'category', 'Border': 'category'}, \n",
    "                   parse_dates=['Date'], date_parser=mydateparser)\n",
    "data.info()"
   ]
  },
  {
   "cell_type": "code",
   "execution_count": 3,
   "metadata": {},
   "outputs": [
    {
     "data": {
      "text/html": [
       "<div>\n",
       "<style scoped>\n",
       "    .dataframe tbody tr th:only-of-type {\n",
       "        vertical-align: middle;\n",
       "    }\n",
       "\n",
       "    .dataframe tbody tr th {\n",
       "        vertical-align: top;\n",
       "    }\n",
       "\n",
       "    .dataframe thead th {\n",
       "        text-align: right;\n",
       "    }\n",
       "</style>\n",
       "<table border=\"1\" class=\"dataframe\">\n",
       "  <thead>\n",
       "    <tr style=\"text-align: right;\">\n",
       "      <th></th>\n",
       "      <th>Port Name</th>\n",
       "      <th>State</th>\n",
       "      <th>Port Code</th>\n",
       "      <th>Border</th>\n",
       "      <th>Date</th>\n",
       "      <th>Measure</th>\n",
       "      <th>Value</th>\n",
       "    </tr>\n",
       "  </thead>\n",
       "  <tbody>\n",
       "    <tr>\n",
       "      <th>351876</th>\n",
       "      <td>Oroville</td>\n",
       "      <td>WA</td>\n",
       "      <td>3019</td>\n",
       "      <td>US-Canada Border</td>\n",
       "      <td>1996-01-03</td>\n",
       "      <td>Personal Vehicles</td>\n",
       "      <td>24151</td>\n",
       "    </tr>\n",
       "    <tr>\n",
       "      <th>345543</th>\n",
       "      <td>Otay Mesa</td>\n",
       "      <td>CA</td>\n",
       "      <td>2506</td>\n",
       "      <td>US-Mexico Border</td>\n",
       "      <td>1996-01-09</td>\n",
       "      <td>Bus Passengers</td>\n",
       "      <td>13934</td>\n",
       "    </tr>\n",
       "    <tr>\n",
       "      <th>240712</th>\n",
       "      <td>Norton</td>\n",
       "      <td>VT</td>\n",
       "      <td>211</td>\n",
       "      <td>US-Canada Border</td>\n",
       "      <td>2003-01-09</td>\n",
       "      <td>Personal Vehicle Passengers</td>\n",
       "      <td>11642</td>\n",
       "    </tr>\n",
       "    <tr>\n",
       "      <th>166524</th>\n",
       "      <td>Detroit</td>\n",
       "      <td>MI</td>\n",
       "      <td>3801</td>\n",
       "      <td>US-Canada Border</td>\n",
       "      <td>2008-01-04</td>\n",
       "      <td>Buses</td>\n",
       "      <td>2748</td>\n",
       "    </tr>\n",
       "    <tr>\n",
       "      <th>286054</th>\n",
       "      <td>Beecher Falls</td>\n",
       "      <td>VT</td>\n",
       "      <td>206</td>\n",
       "      <td>US-Canada Border</td>\n",
       "      <td>2000-01-09</td>\n",
       "      <td>Trucks</td>\n",
       "      <td>1753</td>\n",
       "    </tr>\n",
       "    <tr>\n",
       "      <th>155673</th>\n",
       "      <td>Westhope</td>\n",
       "      <td>ND</td>\n",
       "      <td>3419</td>\n",
       "      <td>US-Canada Border</td>\n",
       "      <td>2009-01-01</td>\n",
       "      <td>Personal Vehicle Passengers</td>\n",
       "      <td>1448</td>\n",
       "    </tr>\n",
       "    <tr>\n",
       "      <th>311291</th>\n",
       "      <td>Portal</td>\n",
       "      <td>ND</td>\n",
       "      <td>3403</td>\n",
       "      <td>US-Canada Border</td>\n",
       "      <td>1998-01-12</td>\n",
       "      <td>Train Passengers</td>\n",
       "      <td>435</td>\n",
       "    </tr>\n",
       "    <tr>\n",
       "      <th>306624</th>\n",
       "      <td>Noyes</td>\n",
       "      <td>MN</td>\n",
       "      <td>3402</td>\n",
       "      <td>US-Canada Border</td>\n",
       "      <td>1999-01-04</td>\n",
       "      <td>Train Passengers</td>\n",
       "      <td>257</td>\n",
       "    </tr>\n",
       "    <tr>\n",
       "      <th>120392</th>\n",
       "      <td>Laurier</td>\n",
       "      <td>WA</td>\n",
       "      <td>3016</td>\n",
       "      <td>US-Canada Border</td>\n",
       "      <td>2011-01-03</td>\n",
       "      <td>Truck Containers Full</td>\n",
       "      <td>211</td>\n",
       "    </tr>\n",
       "    <tr>\n",
       "      <th>288872</th>\n",
       "      <td>Naco</td>\n",
       "      <td>AZ</td>\n",
       "      <td>2603</td>\n",
       "      <td>US-Mexico Border</td>\n",
       "      <td>2000-01-06</td>\n",
       "      <td>Truck Containers Empty</td>\n",
       "      <td>153</td>\n",
       "    </tr>\n",
       "    <tr>\n",
       "      <th>327357</th>\n",
       "      <td>Danville</td>\n",
       "      <td>WA</td>\n",
       "      <td>3012</td>\n",
       "      <td>US-Canada Border</td>\n",
       "      <td>1997-01-11</td>\n",
       "      <td>Pedestrians</td>\n",
       "      <td>30</td>\n",
       "    </tr>\n",
       "    <tr>\n",
       "      <th>23658</th>\n",
       "      <td>Lukeville</td>\n",
       "      <td>AZ</td>\n",
       "      <td>2602</td>\n",
       "      <td>US-Mexico Border</td>\n",
       "      <td>2017-01-09</td>\n",
       "      <td>Truck Containers Full</td>\n",
       "      <td>21</td>\n",
       "    </tr>\n",
       "    <tr>\n",
       "      <th>113296</th>\n",
       "      <td>Roma</td>\n",
       "      <td>TX</td>\n",
       "      <td>2310</td>\n",
       "      <td>US-Mexico Border</td>\n",
       "      <td>2011-01-08</td>\n",
       "      <td>Train Passengers</td>\n",
       "      <td>0</td>\n",
       "    </tr>\n",
       "    <tr>\n",
       "      <th>170257</th>\n",
       "      <td>Point Roberts</td>\n",
       "      <td>WA</td>\n",
       "      <td>3017</td>\n",
       "      <td>US-Canada Border</td>\n",
       "      <td>2008-01-02</td>\n",
       "      <td>Rail Containers Full</td>\n",
       "      <td>0</td>\n",
       "    </tr>\n",
       "    <tr>\n",
       "      <th>43791</th>\n",
       "      <td>Bridgewater</td>\n",
       "      <td>ME</td>\n",
       "      <td>127</td>\n",
       "      <td>US-Canada Border</td>\n",
       "      <td>2016-01-01</td>\n",
       "      <td>Buses</td>\n",
       "      <td>0</td>\n",
       "    </tr>\n",
       "  </tbody>\n",
       "</table>\n",
       "</div>"
      ],
      "text/plain": [
       "            Port Name State  Port Code            Border       Date  \\\n",
       "351876       Oroville    WA       3019  US-Canada Border 1996-01-03   \n",
       "345543      Otay Mesa    CA       2506  US-Mexico Border 1996-01-09   \n",
       "240712         Norton    VT        211  US-Canada Border 2003-01-09   \n",
       "166524        Detroit    MI       3801  US-Canada Border 2008-01-04   \n",
       "286054  Beecher Falls    VT        206  US-Canada Border 2000-01-09   \n",
       "155673       Westhope    ND       3419  US-Canada Border 2009-01-01   \n",
       "311291         Portal    ND       3403  US-Canada Border 1998-01-12   \n",
       "306624          Noyes    MN       3402  US-Canada Border 1999-01-04   \n",
       "120392        Laurier    WA       3016  US-Canada Border 2011-01-03   \n",
       "288872           Naco    AZ       2603  US-Mexico Border 2000-01-06   \n",
       "327357       Danville    WA       3012  US-Canada Border 1997-01-11   \n",
       "23658       Lukeville    AZ       2602  US-Mexico Border 2017-01-09   \n",
       "113296           Roma    TX       2310  US-Mexico Border 2011-01-08   \n",
       "170257  Point Roberts    WA       3017  US-Canada Border 2008-01-02   \n",
       "43791     Bridgewater    ME        127  US-Canada Border 2016-01-01   \n",
       "\n",
       "                            Measure  Value  \n",
       "351876            Personal Vehicles  24151  \n",
       "345543               Bus Passengers  13934  \n",
       "240712  Personal Vehicle Passengers  11642  \n",
       "166524                        Buses   2748  \n",
       "286054                       Trucks   1753  \n",
       "155673  Personal Vehicle Passengers   1448  \n",
       "311291             Train Passengers    435  \n",
       "306624             Train Passengers    257  \n",
       "120392        Truck Containers Full    211  \n",
       "288872       Truck Containers Empty    153  \n",
       "327357                  Pedestrians     30  \n",
       "23658         Truck Containers Full     21  \n",
       "113296             Train Passengers      0  \n",
       "170257         Rail Containers Full      0  \n",
       "43791                         Buses      0  "
      ]
     },
     "execution_count": 3,
     "metadata": {},
     "output_type": "execute_result"
    }
   ],
   "source": [
    "# Print the data\n",
    "data.sample(n=15).sort_values('Value', ascending=False)"
   ]
  },
  {
   "cell_type": "code",
   "execution_count": 37,
   "metadata": {},
   "outputs": [
    {
     "data": {
      "text/plain": [
       "Port Name    0\n",
       "State        0\n",
       "Port Code    0\n",
       "Border       0\n",
       "Date         0\n",
       "Measure      0\n",
       "Value        0\n",
       "dtype: int64"
      ]
     },
     "execution_count": 37,
     "metadata": {},
     "output_type": "execute_result"
    }
   ],
   "source": [
    "# Checking for missing values\n",
    "data.isna().any()\n",
    "data.isna().sum()"
   ]
  },
  {
   "cell_type": "markdown",
   "metadata": {},
   "source": [
    "In the above result, we can see that there is no missing values in this dataset.  "
   ]
  },
  {
   "cell_type": "code",
   "execution_count": 4,
   "metadata": {},
   "outputs": [
    {
     "data": {
      "text/html": [
       "<div>\n",
       "<style scoped>\n",
       "    .dataframe tbody tr th:only-of-type {\n",
       "        vertical-align: middle;\n",
       "    }\n",
       "\n",
       "    .dataframe tbody tr th {\n",
       "        vertical-align: top;\n",
       "    }\n",
       "\n",
       "    .dataframe thead th {\n",
       "        text-align: right;\n",
       "    }\n",
       "</style>\n",
       "<table border=\"1\" class=\"dataframe\">\n",
       "  <thead>\n",
       "    <tr style=\"text-align: right;\">\n",
       "      <th></th>\n",
       "      <th>Border</th>\n",
       "      <th>Visitors</th>\n",
       "    </tr>\n",
       "  </thead>\n",
       "  <tbody>\n",
       "    <tr>\n",
       "      <th>0</th>\n",
       "      <td>US-Canada Border</td>\n",
       "      <td>2776127401</td>\n",
       "    </tr>\n",
       "    <tr>\n",
       "      <th>1</th>\n",
       "      <td>US-Mexico Border</td>\n",
       "      <td>7337300710</td>\n",
       "    </tr>\n",
       "  </tbody>\n",
       "</table>\n",
       "</div>"
      ],
      "text/plain": [
       "             Border    Visitors\n",
       "0  US-Canada Border  2776127401\n",
       "1  US-Mexico Border  7337300710"
      ]
     },
     "execution_count": 4,
     "metadata": {},
     "output_type": "execute_result"
    }
   ],
   "source": [
    "data_border = data.groupby(['Border'])['Value'].agg([sum]).rename(columns={'sum':\"Visitors\"}).reset_index()\n",
    "data_border"
   ]
  },
  {
   "cell_type": "code",
   "execution_count": 5,
   "metadata": {},
   "outputs": [
    {
     "data": {
      "image/png": "[encoded data removed]",
      "text/plain": [
       "<Figure size 432x288 with 1 Axes>"
      ]
     },
     "metadata": {
      "needs_background": "light"
     },
     "output_type": "display_data"
    }
   ],
   "source": [
    "plt.bar(data_border['Border'], data_border['Visitors'])\n",
    "plt.xlabel('Borders')\n",
    "plt.ylabel('Number of Visitors')\n",
    "plt.title('Overall visitors')\n",
    "plt.yscale('log')\n",
    "plt.yticks(data_border['Visitors'])\n",
    "plt.show()"
   ]
  },
  {
   "cell_type": "code",
   "execution_count": 6,
   "metadata": {},
   "outputs": [
    {
     "data": {
      "text/plain": [
       "array(['Personal Vehicle Passengers', 'Personal Vehicles',\n",
       "       'Truck Containers Empty', 'Truck Containers Full', 'Trucks',\n",
       "       'Bus Passengers', 'Buses', 'Pedestrians', 'Rail Containers Empty',\n",
       "       'Rail Containers Full', 'Train Passengers', 'Trains'], dtype=object)"
      ]
     },
     "execution_count": 6,
     "metadata": {},
     "output_type": "execute_result"
    }
   ],
   "source": [
    "# Different means of transporation with Mexican and Canadian Borders\n",
    "data['Measure'].unique()"
   ]
  },
  {
   "cell_type": "markdown",
   "metadata": {},
   "source": [
    "I was wondering how many different channel of transporations are there among the travellers. Now I am going to see the number of visitors with reference to channel of transportation between these two borders."
   ]
  },
  {
   "cell_type": "code",
   "execution_count": 7,
   "metadata": {},
   "outputs": [
    {
     "data": {
      "text/html": [
       "<div>\n",
       "<style scoped>\n",
       "    .dataframe tbody tr th:only-of-type {\n",
       "        vertical-align: middle;\n",
       "    }\n",
       "\n",
       "    .dataframe tbody tr th {\n",
       "        vertical-align: top;\n",
       "    }\n",
       "\n",
       "    .dataframe thead th {\n",
       "        text-align: right;\n",
       "    }\n",
       "</style>\n",
       "<table border=\"1\" class=\"dataframe\">\n",
       "  <thead>\n",
       "    <tr style=\"text-align: right;\">\n",
       "      <th></th>\n",
       "      <th>Border</th>\n",
       "      <th>Measure</th>\n",
       "      <th>Visitors</th>\n",
       "    </tr>\n",
       "  </thead>\n",
       "  <tbody>\n",
       "    <tr>\n",
       "      <th>15</th>\n",
       "      <td>US-Mexico Border</td>\n",
       "      <td>Personal Vehicle Passengers</td>\n",
       "      <td>4043076782</td>\n",
       "    </tr>\n",
       "    <tr>\n",
       "      <th>16</th>\n",
       "      <td>US-Mexico Border</td>\n",
       "      <td>Personal Vehicles</td>\n",
       "      <td>1890535412</td>\n",
       "    </tr>\n",
       "    <tr>\n",
       "      <th>14</th>\n",
       "      <td>US-Mexico Border</td>\n",
       "      <td>Pedestrians</td>\n",
       "      <td>1076593384</td>\n",
       "    </tr>\n",
       "    <tr>\n",
       "      <th>23</th>\n",
       "      <td>US-Mexico Border</td>\n",
       "      <td>Trucks</td>\n",
       "      <td>117244433</td>\n",
       "    </tr>\n",
       "    <tr>\n",
       "      <th>22</th>\n",
       "      <td>US-Mexico Border</td>\n",
       "      <td>Truck Containers Full</td>\n",
       "      <td>74970813</td>\n",
       "    </tr>\n",
       "    <tr>\n",
       "      <th>12</th>\n",
       "      <td>US-Mexico Border</td>\n",
       "      <td>Bus Passengers</td>\n",
       "      <td>70092929</td>\n",
       "    </tr>\n",
       "    <tr>\n",
       "      <th>21</th>\n",
       "      <td>US-Mexico Border</td>\n",
       "      <td>Truck Containers Empty</td>\n",
       "      <td>41057442</td>\n",
       "    </tr>\n",
       "    <tr>\n",
       "      <th>17</th>\n",
       "      <td>US-Mexico Border</td>\n",
       "      <td>Rail Containers Empty</td>\n",
       "      <td>9350352</td>\n",
       "    </tr>\n",
       "    <tr>\n",
       "      <th>18</th>\n",
       "      <td>US-Mexico Border</td>\n",
       "      <td>Rail Containers Full</td>\n",
       "      <td>8281197</td>\n",
       "    </tr>\n",
       "    <tr>\n",
       "      <th>13</th>\n",
       "      <td>US-Mexico Border</td>\n",
       "      <td>Buses</td>\n",
       "      <td>5589037</td>\n",
       "    </tr>\n",
       "    <tr>\n",
       "      <th>19</th>\n",
       "      <td>US-Mexico Border</td>\n",
       "      <td>Train Passengers</td>\n",
       "      <td>295479</td>\n",
       "    </tr>\n",
       "    <tr>\n",
       "      <th>20</th>\n",
       "      <td>US-Mexico Border</td>\n",
       "      <td>Trains</td>\n",
       "      <td>213450</td>\n",
       "    </tr>\n",
       "    <tr>\n",
       "      <th>3</th>\n",
       "      <td>US-Canada Border</td>\n",
       "      <td>Personal Vehicle Passengers</td>\n",
       "      <td>1586449974</td>\n",
       "    </tr>\n",
       "    <tr>\n",
       "      <th>4</th>\n",
       "      <td>US-Canada Border</td>\n",
       "      <td>Personal Vehicles</td>\n",
       "      <td>761000003</td>\n",
       "    </tr>\n",
       "    <tr>\n",
       "      <th>11</th>\n",
       "      <td>US-Canada Border</td>\n",
       "      <td>Trucks</td>\n",
       "      <td>147487510</td>\n",
       "    </tr>\n",
       "    <tr>\n",
       "      <th>10</th>\n",
       "      <td>US-Canada Border</td>\n",
       "      <td>Truck Containers Full</td>\n",
       "      <td>110492381</td>\n",
       "    </tr>\n",
       "    <tr>\n",
       "      <th>0</th>\n",
       "      <td>US-Canada Border</td>\n",
       "      <td>Bus Passengers</td>\n",
       "      <td>75934445</td>\n",
       "    </tr>\n",
       "    <tr>\n",
       "      <th>6</th>\n",
       "      <td>US-Canada Border</td>\n",
       "      <td>Rail Containers Full</td>\n",
       "      <td>32211453</td>\n",
       "    </tr>\n",
       "    <tr>\n",
       "      <th>9</th>\n",
       "      <td>US-Canada Border</td>\n",
       "      <td>Truck Containers Empty</td>\n",
       "      <td>25978593</td>\n",
       "    </tr>\n",
       "    <tr>\n",
       "      <th>2</th>\n",
       "      <td>US-Canada Border</td>\n",
       "      <td>Pedestrians</td>\n",
       "      <td>13474580</td>\n",
       "    </tr>\n",
       "    <tr>\n",
       "      <th>5</th>\n",
       "      <td>US-Canada Border</td>\n",
       "      <td>Rail Containers Empty</td>\n",
       "      <td>13036047</td>\n",
       "    </tr>\n",
       "    <tr>\n",
       "      <th>7</th>\n",
       "      <td>US-Canada Border</td>\n",
       "      <td>Train Passengers</td>\n",
       "      <td>6177238</td>\n",
       "    </tr>\n",
       "    <tr>\n",
       "      <th>1</th>\n",
       "      <td>US-Canada Border</td>\n",
       "      <td>Buses</td>\n",
       "      <td>3165357</td>\n",
       "    </tr>\n",
       "    <tr>\n",
       "      <th>8</th>\n",
       "      <td>US-Canada Border</td>\n",
       "      <td>Trains</td>\n",
       "      <td>719820</td>\n",
       "    </tr>\n",
       "  </tbody>\n",
       "</table>\n",
       "</div>"
      ],
      "text/plain": [
       "              Border                      Measure    Visitors\n",
       "15  US-Mexico Border  Personal Vehicle Passengers  4043076782\n",
       "16  US-Mexico Border            Personal Vehicles  1890535412\n",
       "14  US-Mexico Border                  Pedestrians  1076593384\n",
       "23  US-Mexico Border                       Trucks   117244433\n",
       "22  US-Mexico Border        Truck Containers Full    74970813\n",
       "12  US-Mexico Border               Bus Passengers    70092929\n",
       "21  US-Mexico Border       Truck Containers Empty    41057442\n",
       "17  US-Mexico Border        Rail Containers Empty     9350352\n",
       "18  US-Mexico Border         Rail Containers Full     8281197\n",
       "13  US-Mexico Border                        Buses     5589037\n",
       "19  US-Mexico Border             Train Passengers      295479\n",
       "20  US-Mexico Border                       Trains      213450\n",
       "3   US-Canada Border  Personal Vehicle Passengers  1586449974\n",
       "4   US-Canada Border            Personal Vehicles   761000003\n",
       "11  US-Canada Border                       Trucks   147487510\n",
       "10  US-Canada Border        Truck Containers Full   110492381\n",
       "0   US-Canada Border               Bus Passengers    75934445\n",
       "6   US-Canada Border         Rail Containers Full    32211453\n",
       "9   US-Canada Border       Truck Containers Empty    25978593\n",
       "2   US-Canada Border                  Pedestrians    13474580\n",
       "5   US-Canada Border        Rail Containers Empty    13036047\n",
       "7   US-Canada Border             Train Passengers     6177238\n",
       "1   US-Canada Border                        Buses     3165357\n",
       "8   US-Canada Border                       Trains      719820"
      ]
     },
     "execution_count": 7,
     "metadata": {},
     "output_type": "execute_result"
    }
   ],
   "source": [
    "# Grouped summary of Measures by Borders\n",
    "data_measure = data.groupby(['Border', 'Measure'])['Value'].agg([sum]).rename(columns={'sum':\"Visitors\"}).reset_index().sort_values(['Border','Visitors'], ascending=False)\n",
    "data_measure"
   ]
  },
  {
   "cell_type": "code",
   "execution_count": 196,
   "metadata": {},
   "outputs": [
    {
     "data": {
      "text/plain": [
       "<seaborn.axisgrid.FacetGrid at 0x2a15d0a5048>"
      ]
     },
     "execution_count": 196,
     "metadata": {},
     "output_type": "execute_result"
    },
    {
     "data": {
      "image/png": "[encoded data removed]",
      "text/plain": [
       "<Figure size 864x432 with 2 Axes>"
      ]
     },
     "metadata": {
      "needs_background": "light"
     },
     "output_type": "display_data"
    }
   ],
   "source": [
    "s= sns.catplot(x=\"Measure\", y=\"Visitors\", hue=\"Border\", data= data_measure, kind=\"bar\", palette=\"muted\",\n",
    "           height=6, col=\"Border\")\n",
    "s.despine(left=True)\n",
    "s.set_xticklabels(rotation=90)\n",
    "s.set(yscale=\"log\")"
   ]
  },
  {
   "cell_type": "markdown",
   "metadata": {},
   "source": [
    "Personal vehicle passengers & vehicles, trucks and bus passengers are the mostly used means of transportation in US-Canada Borders while, personal vehicles and pedestrians are the mostly using means of transportation in US-Mexican Borders. "
   ]
  },
  {
   "cell_type": "code",
   "execution_count": 8,
   "metadata": {},
   "outputs": [
    {
     "data": {
      "text/html": [
       "<div>\n",
       "<style scoped>\n",
       "    .dataframe tbody tr th:only-of-type {\n",
       "        vertical-align: middle;\n",
       "    }\n",
       "\n",
       "    .dataframe tbody tr th {\n",
       "        vertical-align: top;\n",
       "    }\n",
       "\n",
       "    .dataframe thead th {\n",
       "        text-align: right;\n",
       "    }\n",
       "</style>\n",
       "<table border=\"1\" class=\"dataframe\">\n",
       "  <thead>\n",
       "    <tr style=\"text-align: right;\">\n",
       "      <th></th>\n",
       "      <th>Port Name</th>\n",
       "      <th>Visitors</th>\n",
       "    </tr>\n",
       "  </thead>\n",
       "  <tbody>\n",
       "    <tr>\n",
       "      <th>34</th>\n",
       "      <td>El Paso</td>\n",
       "      <td>1186748989</td>\n",
       "    </tr>\n",
       "    <tr>\n",
       "      <th>91</th>\n",
       "      <td>San Ysidro</td>\n",
       "      <td>1184198982</td>\n",
       "    </tr>\n",
       "    <tr>\n",
       "      <th>51</th>\n",
       "      <td>Laredo</td>\n",
       "      <td>676914805</td>\n",
       "    </tr>\n",
       "    <tr>\n",
       "      <th>44</th>\n",
       "      <td>Hidalgo</td>\n",
       "      <td>583725539</td>\n",
       "    </tr>\n",
       "    <tr>\n",
       "      <th>15</th>\n",
       "      <td>Buffalo-Niagara Falls</td>\n",
       "      <td>559736205</td>\n",
       "    </tr>\n",
       "    <tr>\n",
       "      <th>17</th>\n",
       "      <td>Calexico</td>\n",
       "      <td>538455020</td>\n",
       "    </tr>\n",
       "    <tr>\n",
       "      <th>14</th>\n",
       "      <td>Brownsville</td>\n",
       "      <td>533360410</td>\n",
       "    </tr>\n",
       "    <tr>\n",
       "      <th>29</th>\n",
       "      <td>Detroit</td>\n",
       "      <td>497457335</td>\n",
       "    </tr>\n",
       "    <tr>\n",
       "      <th>72</th>\n",
       "      <td>Otay Mesa</td>\n",
       "      <td>471000461</td>\n",
       "    </tr>\n",
       "    <tr>\n",
       "      <th>64</th>\n",
       "      <td>Nogales</td>\n",
       "      <td>414830531</td>\n",
       "    </tr>\n",
       "  </tbody>\n",
       "</table>\n",
       "</div>"
      ],
      "text/plain": [
       "                Port Name    Visitors\n",
       "34                El Paso  1186748989\n",
       "91             San Ysidro  1184198982\n",
       "51                 Laredo   676914805\n",
       "44                Hidalgo   583725539\n",
       "15  Buffalo-Niagara Falls   559736205\n",
       "17               Calexico   538455020\n",
       "14            Brownsville   533360410\n",
       "29                Detroit   497457335\n",
       "72              Otay Mesa   471000461\n",
       "64                Nogales   414830531"
      ]
     },
     "execution_count": 8,
     "metadata": {},
     "output_type": "execute_result"
    }
   ],
   "source": [
    "# Ports\n",
    "data_port = data.groupby('Port Name')['Value'].agg([sum]).reset_index().rename(columns={'sum':\"Visitors\"}).sort_values('Visitors',ascending=False)\n",
    "data_port2 = data_port.head(10)\n",
    "data_port2"
   ]
  },
  {
   "cell_type": "code",
   "execution_count": 215,
   "metadata": {},
   "outputs": [
    {
     "data": {
      "text/plain": [
       "116"
      ]
     },
     "execution_count": 215,
     "metadata": {},
     "output_type": "execute_result"
    }
   ],
   "source": [
    "# Number of Ports between these two borders?\n",
    "data_port['Port Name'].count()"
   ]
  },
  {
   "cell_type": "code",
   "execution_count": 99,
   "metadata": {},
   "outputs": [
    {
     "data": {
      "text/html": [
       "<div>\n",
       "<style scoped>\n",
       "    .dataframe tbody tr th:only-of-type {\n",
       "        vertical-align: middle;\n",
       "    }\n",
       "\n",
       "    .dataframe tbody tr th {\n",
       "        vertical-align: top;\n",
       "    }\n",
       "\n",
       "    .dataframe thead th {\n",
       "        text-align: right;\n",
       "    }\n",
       "</style>\n",
       "<table border=\"1\" class=\"dataframe\">\n",
       "  <thead>\n",
       "    <tr style=\"text-align: right;\">\n",
       "      <th></th>\n",
       "      <th>Border</th>\n",
       "      <th>Year</th>\n",
       "      <th>sum</th>\n",
       "    </tr>\n",
       "  </thead>\n",
       "  <tbody>\n",
       "    <tr>\n",
       "      <th>0</th>\n",
       "      <td>US-Canada Border</td>\n",
       "      <td>1996</td>\n",
       "      <td>153038903</td>\n",
       "    </tr>\n",
       "    <tr>\n",
       "      <th>1</th>\n",
       "      <td>US-Canada Border</td>\n",
       "      <td>1997</td>\n",
       "      <td>145512710</td>\n",
       "    </tr>\n",
       "    <tr>\n",
       "      <th>2</th>\n",
       "      <td>US-Canada Border</td>\n",
       "      <td>1998</td>\n",
       "      <td>142291790</td>\n",
       "    </tr>\n",
       "    <tr>\n",
       "      <th>3</th>\n",
       "      <td>US-Canada Border</td>\n",
       "      <td>1999</td>\n",
       "      <td>146497328</td>\n",
       "    </tr>\n",
       "    <tr>\n",
       "      <th>4</th>\n",
       "      <td>US-Canada Border</td>\n",
       "      <td>2000</td>\n",
       "      <td>147789673</td>\n",
       "    </tr>\n",
       "  </tbody>\n",
       "</table>\n",
       "</div>"
      ],
      "text/plain": [
       "             Border  Year        sum\n",
       "0  US-Canada Border  1996  153038903\n",
       "1  US-Canada Border  1997  145512710\n",
       "2  US-Canada Border  1998  142291790\n",
       "3  US-Canada Border  1999  146497328\n",
       "4  US-Canada Border  2000  147789673"
      ]
     },
     "execution_count": 99,
     "metadata": {},
     "output_type": "execute_result"
    }
   ],
   "source": [
    "data_date = data.groupby(['Date', 'Border'])['Value'].agg([sum]).reset_index()\n",
    "data_date['Year'] = data_date['Date'].dt.strftime('%Y')\n",
    "\n",
    "data_date2 = data_date.groupby(['Border','Year'])['sum'].agg([sum]).reset_index()\n",
    "data_date2.head()"
   ]
  },
  {
   "cell_type": "code",
   "execution_count": 96,
   "metadata": {},
   "outputs": [
    {
     "data": {
      "text/plain": [
       "([0,\n",
       "  1,\n",
       "  2,\n",
       "  3,\n",
       "  4,\n",
       "  5,\n",
       "  6,\n",
       "  7,\n",
       "  8,\n",
       "  9,\n",
       "  10,\n",
       "  11,\n",
       "  12,\n",
       "  13,\n",
       "  14,\n",
       "  15,\n",
       "  16,\n",
       "  17,\n",
       "  18,\n",
       "  19,\n",
       "  20,\n",
       "  21,\n",
       "  22,\n",
       "  23,\n",
       "  24],\n",
       " <a list of 25 Text xticklabel objects>)"
      ]
     },
     "execution_count": 96,
     "metadata": {},
     "output_type": "execute_result"
    },
    {
     "data": {
      "image/png": "[encoded data removed]",
      "text/plain": [
       "<Figure size 432x288 with 1 Axes>"
      ]
     },
     "metadata": {
      "needs_background": "light"
     },
     "output_type": "display_data"
    }
   ],
   "source": [
    "# Visualize frequency of crossings in date\n",
    "sns.lineplot(x=\"Year\", y=\"sum\", hue=\"Border\",data=data_date2)\n",
    "plt.xlabel('Year')\n",
    "plt.ylabel('Visitors')\n",
    "plt.xticks(rotation=90)\n"
   ]
  },
  {
   "cell_type": "markdown",
   "metadata": {},
   "source": [
    "In the above lineplot, we can see that US-Mexico Border has more frequent travellers as compared with US-Canadian Border. In both borders, passenger vehicles are the mostly using mean of transportation in both borders but pedestrians is also used frequently in US-Mexican border."
   ]
  }
 ],
 "metadata": {
  "kernelspec": {
   "display_name": "Python 3",
   "language": "python",
   "name": "python3"
  },
  "language_info": {
   "codemirror_mode": {
    "name": "ipython",
    "version": 3
   },
   "file_extension": ".py",
   "mimetype": "text/x-python",
   "name": "python",
   "nbconvert_exporter": "python",
   "pygments_lexer": "ipython3",
   "version": "3.7.3"
  }
 },
 "nbformat": 4,
 "nbformat_minor": 2
}
